{
  "nbformat": 4,
  "nbformat_minor": 0,
  "metadata": {
    "colab": {
      "name": "House_Prices.ipynb",
      "provenance": [],
      "include_colab_link": true
    },
    "kernelspec": {
      "name": "python3",
      "display_name": "Python 3"
    },
    "language_info": {
      "name": "python"
    }
  },
  "cells": [
    {
      "cell_type": "markdown",
      "metadata": {
        "id": "view-in-github",
        "colab_type": "text"
      },
      "source": [
        "<a href=\"https://colab.research.google.com/github/olyviah82/House_Pricing/blob/main/House_Prices.ipynb\" target=\"_parent\"><img src=\"https://colab.research.google.com/assets/colab-badge.svg\" alt=\"Open In Colab\"/></a>"
      ]
    },
    {
      "cell_type": "code",
      "metadata": {
        "id": "iRD12ucdG_22"
      },
      "source": [
        "import pandas as pd\n",
        "import numpy as np\n",
        "from sklearn.preprocessing import StandardScaler\n",
        "from sklearn.decomposition import PCA\n",
        "from sklearn.linear_model import Lasso,LassoCV\n",
        "import matplotlib.pyplot as plt\n",
        "from sklearn import linear_model,metrics\n",
        "from sklearn.model_selection import train_test_split,KFold,cross_val_score,GridSearchCV,RandomizedSearchCV"
      ],
      "execution_count": 100,
      "outputs": []
    },
    {
      "cell_type": "markdown",
      "metadata": {
        "id": "U9BeC6UjPWy6"
      },
      "source": [
        "# Get the Dataset"
      ]
    },
    {
      "cell_type": "code",
      "metadata": {
        "id": "hqaTeAbNHDld"
      },
      "source": [
        "data=pd.read_csv('modified_data.csv')"
      ],
      "execution_count": 53,
      "outputs": []
    },
    {
      "cell_type": "code",
      "metadata": {
        "colab": {
          "base_uri": "https://localhost:8080/",
          "height": 205
        },
        "id": "AwyN2dxBHXSV",
        "outputId": "9fd4301f-67e0-46d1-9684-aac098502ab9"
      },
      "source": [
        "data.head(2)"
      ],
      "execution_count": 54,
      "outputs": [
        {
          "output_type": "execute_result",
          "data": {
            "text/plain": [
              "   Id  MSSubClass MSZoning  LotFrontage  LotArea Street LotShape LandContour  \\\n",
              "0   1          60       RL         65.0     8450   Pave      Reg         Lvl   \n",
              "1   2          20       RL         80.0     9600   Pave      Reg         Lvl   \n",
              "\n",
              "  Utilities LotConfig  ... EnclosedPorch 3SsnPorch ScreenPorch PoolArea  \\\n",
              "0    AllPub    Inside  ...             0         0           0        0   \n",
              "1    AllPub       FR2  ...             0         0           0        0   \n",
              "\n",
              "  MiscVal MoSold  YrSold  SaleType  SaleCondition  SalePrice  \n",
              "0       0      2    2008        WD         Normal     208500  \n",
              "1       0      5    2007        WD         Normal     181500  \n",
              "\n",
              "[2 rows x 77 columns]"
            ],
            "text/html": [
              "\n",
              "  <div id=\"df-a7201566-c217-4ea0-8f97-9e2b4bb117f3\">\n",
              "    <div class=\"colab-df-container\">\n",
              "      <div>\n",
              "<style scoped>\n",
              "    .dataframe tbody tr th:only-of-type {\n",
              "        vertical-align: middle;\n",
              "    }\n",
              "\n",
              "    .dataframe tbody tr th {\n",
              "        vertical-align: top;\n",
              "    }\n",
              "\n",
              "    .dataframe thead th {\n",
              "        text-align: right;\n",
              "    }\n",
              "</style>\n",
              "<table border=\"1\" class=\"dataframe\">\n",
              "  <thead>\n",
              "    <tr style=\"text-align: right;\">\n",
              "      <th></th>\n",
              "      <th>Id</th>\n",
              "      <th>MSSubClass</th>\n",
              "      <th>MSZoning</th>\n",
              "      <th>LotFrontage</th>\n",
              "      <th>LotArea</th>\n",
              "      <th>Street</th>\n",
              "      <th>LotShape</th>\n",
              "      <th>LandContour</th>\n",
              "      <th>Utilities</th>\n",
              "      <th>LotConfig</th>\n",
              "      <th>...</th>\n",
              "      <th>EnclosedPorch</th>\n",
              "      <th>3SsnPorch</th>\n",
              "      <th>ScreenPorch</th>\n",
              "      <th>PoolArea</th>\n",
              "      <th>MiscVal</th>\n",
              "      <th>MoSold</th>\n",
              "      <th>YrSold</th>\n",
              "      <th>SaleType</th>\n",
              "      <th>SaleCondition</th>\n",
              "      <th>SalePrice</th>\n",
              "    </tr>\n",
              "  </thead>\n",
              "  <tbody>\n",
              "    <tr>\n",
              "      <th>0</th>\n",
              "      <td>1</td>\n",
              "      <td>60</td>\n",
              "      <td>RL</td>\n",
              "      <td>65.0</td>\n",
              "      <td>8450</td>\n",
              "      <td>Pave</td>\n",
              "      <td>Reg</td>\n",
              "      <td>Lvl</td>\n",
              "      <td>AllPub</td>\n",
              "      <td>Inside</td>\n",
              "      <td>...</td>\n",
              "      <td>0</td>\n",
              "      <td>0</td>\n",
              "      <td>0</td>\n",
              "      <td>0</td>\n",
              "      <td>0</td>\n",
              "      <td>2</td>\n",
              "      <td>2008</td>\n",
              "      <td>WD</td>\n",
              "      <td>Normal</td>\n",
              "      <td>208500</td>\n",
              "    </tr>\n",
              "    <tr>\n",
              "      <th>1</th>\n",
              "      <td>2</td>\n",
              "      <td>20</td>\n",
              "      <td>RL</td>\n",
              "      <td>80.0</td>\n",
              "      <td>9600</td>\n",
              "      <td>Pave</td>\n",
              "      <td>Reg</td>\n",
              "      <td>Lvl</td>\n",
              "      <td>AllPub</td>\n",
              "      <td>FR2</td>\n",
              "      <td>...</td>\n",
              "      <td>0</td>\n",
              "      <td>0</td>\n",
              "      <td>0</td>\n",
              "      <td>0</td>\n",
              "      <td>0</td>\n",
              "      <td>5</td>\n",
              "      <td>2007</td>\n",
              "      <td>WD</td>\n",
              "      <td>Normal</td>\n",
              "      <td>181500</td>\n",
              "    </tr>\n",
              "  </tbody>\n",
              "</table>\n",
              "<p>2 rows × 77 columns</p>\n",
              "</div>\n",
              "      <button class=\"colab-df-convert\" onclick=\"convertToInteractive('df-a7201566-c217-4ea0-8f97-9e2b4bb117f3')\"\n",
              "              title=\"Convert this dataframe to an interactive table.\"\n",
              "              style=\"display:none;\">\n",
              "        \n",
              "  <svg xmlns=\"http://www.w3.org/2000/svg\" height=\"24px\"viewBox=\"0 0 24 24\"\n",
              "       width=\"24px\">\n",
              "    <path d=\"M0 0h24v24H0V0z\" fill=\"none\"/>\n",
              "    <path d=\"M18.56 5.44l.94 2.06.94-2.06 2.06-.94-2.06-.94-.94-2.06-.94 2.06-2.06.94zm-11 1L8.5 8.5l.94-2.06 2.06-.94-2.06-.94L8.5 2.5l-.94 2.06-2.06.94zm10 10l.94 2.06.94-2.06 2.06-.94-2.06-.94-.94-2.06-.94 2.06-2.06.94z\"/><path d=\"M17.41 7.96l-1.37-1.37c-.4-.4-.92-.59-1.43-.59-.52 0-1.04.2-1.43.59L10.3 9.45l-7.72 7.72c-.78.78-.78 2.05 0 2.83L4 21.41c.39.39.9.59 1.41.59.51 0 1.02-.2 1.41-.59l7.78-7.78 2.81-2.81c.8-.78.8-2.07 0-2.86zM5.41 20L4 18.59l7.72-7.72 1.47 1.35L5.41 20z\"/>\n",
              "  </svg>\n",
              "      </button>\n",
              "      \n",
              "  <style>\n",
              "    .colab-df-container {\n",
              "      display:flex;\n",
              "      flex-wrap:wrap;\n",
              "      gap: 12px;\n",
              "    }\n",
              "\n",
              "    .colab-df-convert {\n",
              "      background-color: #E8F0FE;\n",
              "      border: none;\n",
              "      border-radius: 50%;\n",
              "      cursor: pointer;\n",
              "      display: none;\n",
              "      fill: #1967D2;\n",
              "      height: 32px;\n",
              "      padding: 0 0 0 0;\n",
              "      width: 32px;\n",
              "    }\n",
              "\n",
              "    .colab-df-convert:hover {\n",
              "      background-color: #E2EBFA;\n",
              "      box-shadow: 0px 1px 2px rgba(60, 64, 67, 0.3), 0px 1px 3px 1px rgba(60, 64, 67, 0.15);\n",
              "      fill: #174EA6;\n",
              "    }\n",
              "\n",
              "    [theme=dark] .colab-df-convert {\n",
              "      background-color: #3B4455;\n",
              "      fill: #D2E3FC;\n",
              "    }\n",
              "\n",
              "    [theme=dark] .colab-df-convert:hover {\n",
              "      background-color: #434B5C;\n",
              "      box-shadow: 0px 1px 3px 1px rgba(0, 0, 0, 0.15);\n",
              "      filter: drop-shadow(0px 1px 2px rgba(0, 0, 0, 0.3));\n",
              "      fill: #FFFFFF;\n",
              "    }\n",
              "  </style>\n",
              "\n",
              "      <script>\n",
              "        const buttonEl =\n",
              "          document.querySelector('#df-a7201566-c217-4ea0-8f97-9e2b4bb117f3 button.colab-df-convert');\n",
              "        buttonEl.style.display =\n",
              "          google.colab.kernel.accessAllowed ? 'block' : 'none';\n",
              "\n",
              "        async function convertToInteractive(key) {\n",
              "          const element = document.querySelector('#df-a7201566-c217-4ea0-8f97-9e2b4bb117f3');\n",
              "          const dataTable =\n",
              "            await google.colab.kernel.invokeFunction('convertToInteractive',\n",
              "                                                     [key], {});\n",
              "          if (!dataTable) return;\n",
              "\n",
              "          const docLinkHtml = 'Like what you see? Visit the ' +\n",
              "            '<a target=\"_blank\" href=https://colab.research.google.com/notebooks/data_table.ipynb>data table notebook</a>'\n",
              "            + ' to learn more about interactive tables.';\n",
              "          element.innerHTML = '';\n",
              "          dataTable['output_type'] = 'display_data';\n",
              "          await google.colab.output.renderOutput(dataTable, element);\n",
              "          const docLink = document.createElement('div');\n",
              "          docLink.innerHTML = docLinkHtml;\n",
              "          element.appendChild(docLink);\n",
              "        }\n",
              "      </script>\n",
              "    </div>\n",
              "  </div>\n",
              "  "
            ]
          },
          "metadata": {},
          "execution_count": 54
        }
      ]
    },
    {
      "cell_type": "code",
      "metadata": {
        "colab": {
          "base_uri": "https://localhost:8080/"
        },
        "id": "IxpsgOI7HZd7",
        "outputId": "63f80f06-e046-42f2-b5e5-48d8463c303c"
      },
      "source": [
        "data.shape"
      ],
      "execution_count": 55,
      "outputs": [
        {
          "output_type": "execute_result",
          "data": {
            "text/plain": [
              "(1460, 77)"
            ]
          },
          "metadata": {},
          "execution_count": 55
        }
      ]
    },
    {
      "cell_type": "code",
      "metadata": {
        "id": "xBphL5QjHeUU"
      },
      "source": [
        "data.drop('Id',inplace=True,axis=1)"
      ],
      "execution_count": 56,
      "outputs": []
    },
    {
      "cell_type": "code",
      "metadata": {
        "colab": {
          "base_uri": "https://localhost:8080/",
          "height": 174
        },
        "id": "0O8TL2EqHxEb",
        "outputId": "cf940695-eb26-48d1-f245-1369191693b1"
      },
      "source": [
        "data.head(1)"
      ],
      "execution_count": 57,
      "outputs": [
        {
          "output_type": "execute_result",
          "data": {
            "text/plain": [
              "   MSSubClass MSZoning  LotFrontage  LotArea Street LotShape LandContour  \\\n",
              "0          60       RL         65.0     8450   Pave      Reg         Lvl   \n",
              "\n",
              "  Utilities LotConfig LandSlope  ... EnclosedPorch 3SsnPorch ScreenPorch  \\\n",
              "0    AllPub    Inside       Gtl  ...             0         0           0   \n",
              "\n",
              "  PoolArea MiscVal  MoSold  YrSold  SaleType  SaleCondition SalePrice  \n",
              "0        0       0       2    2008        WD         Normal    208500  \n",
              "\n",
              "[1 rows x 76 columns]"
            ],
            "text/html": [
              "\n",
              "  <div id=\"df-9e7f87e3-1638-4317-bc83-ac1d42fd1212\">\n",
              "    <div class=\"colab-df-container\">\n",
              "      <div>\n",
              "<style scoped>\n",
              "    .dataframe tbody tr th:only-of-type {\n",
              "        vertical-align: middle;\n",
              "    }\n",
              "\n",
              "    .dataframe tbody tr th {\n",
              "        vertical-align: top;\n",
              "    }\n",
              "\n",
              "    .dataframe thead th {\n",
              "        text-align: right;\n",
              "    }\n",
              "</style>\n",
              "<table border=\"1\" class=\"dataframe\">\n",
              "  <thead>\n",
              "    <tr style=\"text-align: right;\">\n",
              "      <th></th>\n",
              "      <th>MSSubClass</th>\n",
              "      <th>MSZoning</th>\n",
              "      <th>LotFrontage</th>\n",
              "      <th>LotArea</th>\n",
              "      <th>Street</th>\n",
              "      <th>LotShape</th>\n",
              "      <th>LandContour</th>\n",
              "      <th>Utilities</th>\n",
              "      <th>LotConfig</th>\n",
              "      <th>LandSlope</th>\n",
              "      <th>...</th>\n",
              "      <th>EnclosedPorch</th>\n",
              "      <th>3SsnPorch</th>\n",
              "      <th>ScreenPorch</th>\n",
              "      <th>PoolArea</th>\n",
              "      <th>MiscVal</th>\n",
              "      <th>MoSold</th>\n",
              "      <th>YrSold</th>\n",
              "      <th>SaleType</th>\n",
              "      <th>SaleCondition</th>\n",
              "      <th>SalePrice</th>\n",
              "    </tr>\n",
              "  </thead>\n",
              "  <tbody>\n",
              "    <tr>\n",
              "      <th>0</th>\n",
              "      <td>60</td>\n",
              "      <td>RL</td>\n",
              "      <td>65.0</td>\n",
              "      <td>8450</td>\n",
              "      <td>Pave</td>\n",
              "      <td>Reg</td>\n",
              "      <td>Lvl</td>\n",
              "      <td>AllPub</td>\n",
              "      <td>Inside</td>\n",
              "      <td>Gtl</td>\n",
              "      <td>...</td>\n",
              "      <td>0</td>\n",
              "      <td>0</td>\n",
              "      <td>0</td>\n",
              "      <td>0</td>\n",
              "      <td>0</td>\n",
              "      <td>2</td>\n",
              "      <td>2008</td>\n",
              "      <td>WD</td>\n",
              "      <td>Normal</td>\n",
              "      <td>208500</td>\n",
              "    </tr>\n",
              "  </tbody>\n",
              "</table>\n",
              "<p>1 rows × 76 columns</p>\n",
              "</div>\n",
              "      <button class=\"colab-df-convert\" onclick=\"convertToInteractive('df-9e7f87e3-1638-4317-bc83-ac1d42fd1212')\"\n",
              "              title=\"Convert this dataframe to an interactive table.\"\n",
              "              style=\"display:none;\">\n",
              "        \n",
              "  <svg xmlns=\"http://www.w3.org/2000/svg\" height=\"24px\"viewBox=\"0 0 24 24\"\n",
              "       width=\"24px\">\n",
              "    <path d=\"M0 0h24v24H0V0z\" fill=\"none\"/>\n",
              "    <path d=\"M18.56 5.44l.94 2.06.94-2.06 2.06-.94-2.06-.94-.94-2.06-.94 2.06-2.06.94zm-11 1L8.5 8.5l.94-2.06 2.06-.94-2.06-.94L8.5 2.5l-.94 2.06-2.06.94zm10 10l.94 2.06.94-2.06 2.06-.94-2.06-.94-.94-2.06-.94 2.06-2.06.94z\"/><path d=\"M17.41 7.96l-1.37-1.37c-.4-.4-.92-.59-1.43-.59-.52 0-1.04.2-1.43.59L10.3 9.45l-7.72 7.72c-.78.78-.78 2.05 0 2.83L4 21.41c.39.39.9.59 1.41.59.51 0 1.02-.2 1.41-.59l7.78-7.78 2.81-2.81c.8-.78.8-2.07 0-2.86zM5.41 20L4 18.59l7.72-7.72 1.47 1.35L5.41 20z\"/>\n",
              "  </svg>\n",
              "      </button>\n",
              "      \n",
              "  <style>\n",
              "    .colab-df-container {\n",
              "      display:flex;\n",
              "      flex-wrap:wrap;\n",
              "      gap: 12px;\n",
              "    }\n",
              "\n",
              "    .colab-df-convert {\n",
              "      background-color: #E8F0FE;\n",
              "      border: none;\n",
              "      border-radius: 50%;\n",
              "      cursor: pointer;\n",
              "      display: none;\n",
              "      fill: #1967D2;\n",
              "      height: 32px;\n",
              "      padding: 0 0 0 0;\n",
              "      width: 32px;\n",
              "    }\n",
              "\n",
              "    .colab-df-convert:hover {\n",
              "      background-color: #E2EBFA;\n",
              "      box-shadow: 0px 1px 2px rgba(60, 64, 67, 0.3), 0px 1px 3px 1px rgba(60, 64, 67, 0.15);\n",
              "      fill: #174EA6;\n",
              "    }\n",
              "\n",
              "    [theme=dark] .colab-df-convert {\n",
              "      background-color: #3B4455;\n",
              "      fill: #D2E3FC;\n",
              "    }\n",
              "\n",
              "    [theme=dark] .colab-df-convert:hover {\n",
              "      background-color: #434B5C;\n",
              "      box-shadow: 0px 1px 3px 1px rgba(0, 0, 0, 0.15);\n",
              "      filter: drop-shadow(0px 1px 2px rgba(0, 0, 0, 0.3));\n",
              "      fill: #FFFFFF;\n",
              "    }\n",
              "  </style>\n",
              "\n",
              "      <script>\n",
              "        const buttonEl =\n",
              "          document.querySelector('#df-9e7f87e3-1638-4317-bc83-ac1d42fd1212 button.colab-df-convert');\n",
              "        buttonEl.style.display =\n",
              "          google.colab.kernel.accessAllowed ? 'block' : 'none';\n",
              "\n",
              "        async function convertToInteractive(key) {\n",
              "          const element = document.querySelector('#df-9e7f87e3-1638-4317-bc83-ac1d42fd1212');\n",
              "          const dataTable =\n",
              "            await google.colab.kernel.invokeFunction('convertToInteractive',\n",
              "                                                     [key], {});\n",
              "          if (!dataTable) return;\n",
              "\n",
              "          const docLinkHtml = 'Like what you see? Visit the ' +\n",
              "            '<a target=\"_blank\" href=https://colab.research.google.com/notebooks/data_table.ipynb>data table notebook</a>'\n",
              "            + ' to learn more about interactive tables.';\n",
              "          element.innerHTML = '';\n",
              "          dataTable['output_type'] = 'display_data';\n",
              "          await google.colab.output.renderOutput(dataTable, element);\n",
              "          const docLink = document.createElement('div');\n",
              "          docLink.innerHTML = docLinkHtml;\n",
              "          element.appendChild(docLink);\n",
              "        }\n",
              "      </script>\n",
              "    </div>\n",
              "  </div>\n",
              "  "
            ]
          },
          "metadata": {},
          "execution_count": 57
        }
      ]
    },
    {
      "cell_type": "code",
      "metadata": {
        "colab": {
          "base_uri": "https://localhost:8080/"
        },
        "id": "fXKd0pJeHyvJ",
        "outputId": "db14516b-5395-47ed-820d-4b96f9db0c22"
      },
      "source": [
        "original_features=list(data.columns)\n",
        "len(original_features)"
      ],
      "execution_count": 58,
      "outputs": [
        {
          "output_type": "execute_result",
          "data": {
            "text/plain": [
              "76"
            ]
          },
          "metadata": {},
          "execution_count": 58
        }
      ]
    },
    {
      "cell_type": "code",
      "metadata": {
        "colab": {
          "base_uri": "https://localhost:8080/"
        },
        "id": "-oAnqVuLIF5m",
        "outputId": "e91e3053-a7c7-4cb5-ea6e-5fb4b1bd2e91"
      },
      "source": [
        "features_missing_values=list(data.columns[data.isna().any()])\n",
        "len(features_missing_values)"
      ],
      "execution_count": 59,
      "outputs": [
        {
          "output_type": "execute_result",
          "data": {
            "text/plain": [
              "15"
            ]
          },
          "metadata": {},
          "execution_count": 59
        }
      ]
    },
    {
      "cell_type": "code",
      "metadata": {
        "colab": {
          "base_uri": "https://localhost:8080/"
        },
        "id": "YsRu2BYmJOu1",
        "outputId": "c125d636-b9ff-4109-a864-59fe52b0a94c"
      },
      "source": [
        "len(data)"
      ],
      "execution_count": 60,
      "outputs": [
        {
          "output_type": "execute_result",
          "data": {
            "text/plain": [
              "1460"
            ]
          },
          "metadata": {},
          "execution_count": 60
        }
      ]
    },
    {
      "cell_type": "markdown",
      "metadata": {
        "id": "SG8UoVOqPcwp"
      },
      "source": [
        "# Fill in Missing Features"
      ]
    },
    {
      "cell_type": "code",
      "metadata": {
        "id": "kCE41DuSKmWp"
      },
      "source": [
        "bfill,mean_fill=[],[]"
      ],
      "execution_count": 61,
      "outputs": []
    },
    {
      "cell_type": "code",
      "metadata": {
        "id": "zT0VmWr2H8_7",
        "colab": {
          "base_uri": "https://localhost:8080/"
        },
        "outputId": "0635c133-76af-4b34-e0cf-018fbc7e6add"
      },
      "source": [
        "for feature in features_missing_values:\n",
        "  print(feature,' ',data[feature].isna().sum()/len(data)*100,' ',data[feature].dtype)\n",
        "  if data[feature].dtype=='float64':\n",
        "    mean_fill.append(feature)\n",
        "  else:\n",
        "    bfill.append(feature)"
      ],
      "execution_count": 62,
      "outputs": [
        {
          "output_type": "stream",
          "name": "stdout",
          "text": [
            "LotFrontage   17.73972602739726   float64\n",
            "MasVnrType   0.547945205479452   object\n",
            "MasVnrArea   0.547945205479452   float64\n",
            "BsmtQual   2.5342465753424657   object\n",
            "BsmtCond   2.5342465753424657   object\n",
            "BsmtExposure   2.6027397260273974   object\n",
            "BsmtFinType1   2.5342465753424657   object\n",
            "BsmtFinType2   2.6027397260273974   object\n",
            "Electrical   0.0684931506849315   object\n",
            "FireplaceQu   47.26027397260274   object\n",
            "GarageType   5.5479452054794525   object\n",
            "GarageYrBlt   5.5479452054794525   float64\n",
            "GarageFinish   5.5479452054794525   object\n",
            "GarageQual   5.5479452054794525   object\n",
            "GarageCond   5.5479452054794525   object\n"
          ]
        }
      ]
    },
    {
      "cell_type": "code",
      "metadata": {
        "colab": {
          "base_uri": "https://localhost:8080/"
        },
        "id": "y25NfqmoJ6RI",
        "outputId": "dd6e1bac-3418-498d-f4ff-018e16820c2c"
      },
      "source": [
        "mean_fill"
      ],
      "execution_count": 63,
      "outputs": [
        {
          "output_type": "execute_result",
          "data": {
            "text/plain": [
              "['LotFrontage', 'MasVnrArea', 'GarageYrBlt']"
            ]
          },
          "metadata": {},
          "execution_count": 63
        }
      ]
    },
    {
      "cell_type": "code",
      "metadata": {
        "id": "KQW9dCMmKxee"
      },
      "source": [
        "for feature in mean_fill:\n",
        "  data[feature].fillna(data[feature].mean(),inplace=True)"
      ],
      "execution_count": 64,
      "outputs": []
    },
    {
      "cell_type": "code",
      "metadata": {
        "id": "9Sx6f2HNK_5v"
      },
      "source": [
        "for feature in bfill:\n",
        "  data[feature].fillna(method='bfill',inplace=True)"
      ],
      "execution_count": 65,
      "outputs": []
    },
    {
      "cell_type": "code",
      "metadata": {
        "colab": {
          "base_uri": "https://localhost:8080/"
        },
        "id": "EGLomTfrLJ5w",
        "outputId": "f963ef96-f64e-4a1f-fad7-8f5eaf483dd1"
      },
      "source": [
        "data.columns[data.isna().any()]"
      ],
      "execution_count": 66,
      "outputs": [
        {
          "output_type": "execute_result",
          "data": {
            "text/plain": [
              "Index(['FireplaceQu'], dtype='object')"
            ]
          },
          "metadata": {},
          "execution_count": 66
        }
      ]
    },
    {
      "cell_type": "code",
      "metadata": {
        "colab": {
          "base_uri": "https://localhost:8080/"
        },
        "id": "HZ1QKcdeLTm5",
        "outputId": "7e657609-f155-49c5-ee10-2e020a74a7b7"
      },
      "source": [
        "data['FireplaceQu'].isna().sum()"
      ],
      "execution_count": 67,
      "outputs": [
        {
          "output_type": "execute_result",
          "data": {
            "text/plain": [
              "2"
            ]
          },
          "metadata": {},
          "execution_count": 67
        }
      ]
    },
    {
      "cell_type": "code",
      "metadata": {
        "id": "Yho-jIdzLcRB"
      },
      "source": [
        "data['FireplaceQu'].fillna(method='ffill',inplace=True)"
      ],
      "execution_count": 68,
      "outputs": []
    },
    {
      "cell_type": "code",
      "metadata": {
        "id": "_NlPfUtTLmwd"
      },
      "source": [
        ""
      ],
      "execution_count": 68,
      "outputs": []
    },
    {
      "cell_type": "markdown",
      "metadata": {
        "id": "jyzvz4xEPhjO"
      },
      "source": [
        "# Encode the Dataset"
      ]
    },
    {
      "cell_type": "code",
      "metadata": {
        "id": "4qWT-1D_L2V3",
        "colab": {
          "base_uri": "https://localhost:8080/"
        },
        "outputId": "d8e51934-6934-4a04-841b-3b4971f540b5"
      },
      "source": [
        "categorical_features=list(data.select_dtypes(include=['object']).columns)\n",
        "categorical_features"
      ],
      "execution_count": 69,
      "outputs": [
        {
          "output_type": "execute_result",
          "data": {
            "text/plain": [
              "['MSZoning',\n",
              " 'Street',\n",
              " 'LotShape',\n",
              " 'LandContour',\n",
              " 'Utilities',\n",
              " 'LotConfig',\n",
              " 'LandSlope',\n",
              " 'Neighborhood',\n",
              " 'Condition1',\n",
              " 'Condition2',\n",
              " 'BldgType',\n",
              " 'HouseStyle',\n",
              " 'RoofStyle',\n",
              " 'RoofMatl',\n",
              " 'Exterior1st',\n",
              " 'Exterior2nd',\n",
              " 'MasVnrType',\n",
              " 'ExterQual',\n",
              " 'ExterCond',\n",
              " 'Foundation',\n",
              " 'BsmtQual',\n",
              " 'BsmtCond',\n",
              " 'BsmtExposure',\n",
              " 'BsmtFinType1',\n",
              " 'BsmtFinType2',\n",
              " 'Heating',\n",
              " 'HeatingQC',\n",
              " 'CentralAir',\n",
              " 'Electrical',\n",
              " 'KitchenQual',\n",
              " 'Functional',\n",
              " 'FireplaceQu',\n",
              " 'GarageType',\n",
              " 'GarageFinish',\n",
              " 'GarageQual',\n",
              " 'GarageCond',\n",
              " 'PavedDrive',\n",
              " 'SaleType',\n",
              " 'SaleCondition']"
            ]
          },
          "metadata": {},
          "execution_count": 69
        }
      ]
    },
    {
      "cell_type": "code",
      "metadata": {
        "id": "EsT2Y4Z0M71C",
        "colab": {
          "base_uri": "https://localhost:8080/"
        },
        "outputId": "31e1ecb2-6a01-4bf4-fec2-024c1c23fb58"
      },
      "source": [
        "numerical=list(set(original_features)-set(categorical_features))\n",
        "numerical"
      ],
      "execution_count": 70,
      "outputs": [
        {
          "output_type": "execute_result",
          "data": {
            "text/plain": [
              "['Fireplaces',\n",
              " 'BsmtFinSF2',\n",
              " 'LotArea',\n",
              " 'TotalBsmtSF',\n",
              " '1stFlrSF',\n",
              " 'ScreenPorch',\n",
              " 'FullBath',\n",
              " 'GarageCars',\n",
              " 'MoSold',\n",
              " 'WoodDeckSF',\n",
              " 'PoolArea',\n",
              " '2ndFlrSF',\n",
              " 'YrSold',\n",
              " 'BsmtHalfBath',\n",
              " 'GarageYrBlt',\n",
              " 'MasVnrArea',\n",
              " 'GrLivArea',\n",
              " 'OpenPorchSF',\n",
              " 'YearBuilt',\n",
              " 'LotFrontage',\n",
              " 'TotRmsAbvGrd',\n",
              " 'SalePrice',\n",
              " '3SsnPorch',\n",
              " 'MiscVal',\n",
              " 'OverallQual',\n",
              " 'EnclosedPorch',\n",
              " 'BsmtUnfSF',\n",
              " 'HalfBath',\n",
              " 'YearRemodAdd',\n",
              " 'GarageArea',\n",
              " 'LowQualFinSF',\n",
              " 'MSSubClass',\n",
              " 'OverallCond',\n",
              " 'KitchenAbvGr',\n",
              " 'BsmtFinSF1',\n",
              " 'BsmtFullBath',\n",
              " 'BedroomAbvGr']"
            ]
          },
          "metadata": {},
          "execution_count": 70
        }
      ]
    },
    {
      "cell_type": "code",
      "metadata": {
        "id": "UDKIiKVANTnd",
        "outputId": "c2c95710-33d0-4a68-ecf3-4f045c4d487b",
        "colab": {
          "base_uri": "https://localhost:8080/"
        }
      },
      "source": [
        "categorical_features"
      ],
      "execution_count": 71,
      "outputs": [
        {
          "output_type": "execute_result",
          "data": {
            "text/plain": [
              "['MSZoning',\n",
              " 'Street',\n",
              " 'LotShape',\n",
              " 'LandContour',\n",
              " 'Utilities',\n",
              " 'LotConfig',\n",
              " 'LandSlope',\n",
              " 'Neighborhood',\n",
              " 'Condition1',\n",
              " 'Condition2',\n",
              " 'BldgType',\n",
              " 'HouseStyle',\n",
              " 'RoofStyle',\n",
              " 'RoofMatl',\n",
              " 'Exterior1st',\n",
              " 'Exterior2nd',\n",
              " 'MasVnrType',\n",
              " 'ExterQual',\n",
              " 'ExterCond',\n",
              " 'Foundation',\n",
              " 'BsmtQual',\n",
              " 'BsmtCond',\n",
              " 'BsmtExposure',\n",
              " 'BsmtFinType1',\n",
              " 'BsmtFinType2',\n",
              " 'Heating',\n",
              " 'HeatingQC',\n",
              " 'CentralAir',\n",
              " 'Electrical',\n",
              " 'KitchenQual',\n",
              " 'Functional',\n",
              " 'FireplaceQu',\n",
              " 'GarageType',\n",
              " 'GarageFinish',\n",
              " 'GarageQual',\n",
              " 'GarageCond',\n",
              " 'PavedDrive',\n",
              " 'SaleType',\n",
              " 'SaleCondition']"
            ]
          },
          "metadata": {},
          "execution_count": 71
        }
      ]
    },
    {
      "cell_type": "code",
      "metadata": {
        "id": "kM-GRn7aMvyv"
      },
      "source": [
        "nominal=['MSZoning','LandContour','Neighborhood']\n",
        "ordinal=list(set(categorical_features)-set(nominal))"
      ],
      "execution_count": 72,
      "outputs": []
    },
    {
      "cell_type": "code",
      "metadata": {
        "id": "b2TUXbefNp0c"
      },
      "source": [
        "target=['SalePrice']"
      ],
      "execution_count": 73,
      "outputs": []
    },
    {
      "cell_type": "code",
      "metadata": {
        "id": "yFohCKevNuqT"
      },
      "source": [
        "df_nominal=pd.get_dummies(data[nominal])"
      ],
      "execution_count": 74,
      "outputs": []
    },
    {
      "cell_type": "code",
      "metadata": {
        "id": "L7Hr2qrKOCsF"
      },
      "source": [
        "for feature in ordinal:\n",
        "  data[feature]=data[feature].astype('category').cat.codes\n",
        "\n",
        "df_ordinal=data[ordinal]"
      ],
      "execution_count": 75,
      "outputs": []
    },
    {
      "cell_type": "code",
      "metadata": {
        "id": "rIB43vbzOlRa",
        "colab": {
          "base_uri": "https://localhost:8080/",
          "height": 488
        },
        "outputId": "4fbff0b5-3b38-4e42-b323-c16b7b39e1cc"
      },
      "source": [
        "data[numerical]"
      ],
      "execution_count": 76,
      "outputs": [
        {
          "output_type": "execute_result",
          "data": {
            "text/plain": [
              "      Fireplaces  BsmtFinSF2  LotArea  TotalBsmtSF  1stFlrSF  ScreenPorch  \\\n",
              "0              0           0     8450          856       856            0   \n",
              "1              1           0     9600         1262      1262            0   \n",
              "2              1           0    11250          920       920            0   \n",
              "3              1           0     9550          756       961            0   \n",
              "4              1           0    14260         1145      1145            0   \n",
              "...          ...         ...      ...          ...       ...          ...   \n",
              "1455           1           0     7917          953       953            0   \n",
              "1456           2         163    13175         1542      2073            0   \n",
              "1457           2           0     9042         1152      1188            0   \n",
              "1458           0        1029     9717         1078      1078            0   \n",
              "1459           0         290     9937         1256      1256            0   \n",
              "\n",
              "      FullBath  GarageCars  MoSold  WoodDeckSF  ...  HalfBath  YearRemodAdd  \\\n",
              "0            2           2       2           0  ...         1          2003   \n",
              "1            2           2       5         298  ...         0          1976   \n",
              "2            2           2       9           0  ...         1          2002   \n",
              "3            1           3       2           0  ...         0          1970   \n",
              "4            2           3      12         192  ...         1          2000   \n",
              "...        ...         ...     ...         ...  ...       ...           ...   \n",
              "1455         2           2       8           0  ...         1          2000   \n",
              "1456         2           2       2         349  ...         0          1988   \n",
              "1457         2           1       5           0  ...         0          2006   \n",
              "1458         1           1       4         366  ...         0          1996   \n",
              "1459         1           1       6         736  ...         1          1965   \n",
              "\n",
              "      GarageArea  LowQualFinSF  MSSubClass  OverallCond  KitchenAbvGr  \\\n",
              "0            548             0          60            5             1   \n",
              "1            460             0          20            8             1   \n",
              "2            608             0          60            5             1   \n",
              "3            642             0          70            5             1   \n",
              "4            836             0          60            5             1   \n",
              "...          ...           ...         ...          ...           ...   \n",
              "1455         460             0          60            5             1   \n",
              "1456         500             0          20            6             1   \n",
              "1457         252             0          70            9             1   \n",
              "1458         240             0          20            6             1   \n",
              "1459         276             0          20            6             1   \n",
              "\n",
              "      BsmtFinSF1  BsmtFullBath  BedroomAbvGr  \n",
              "0            706             1             3  \n",
              "1            978             0             3  \n",
              "2            486             1             3  \n",
              "3            216             1             3  \n",
              "4            655             1             4  \n",
              "...          ...           ...           ...  \n",
              "1455           0             0             3  \n",
              "1456         790             1             3  \n",
              "1457         275             0             4  \n",
              "1458          49             1             2  \n",
              "1459         830             1             3  \n",
              "\n",
              "[1460 rows x 37 columns]"
            ],
            "text/html": [
              "\n",
              "  <div id=\"df-df68fc0e-9409-4531-946a-1d0d6edb6fa5\">\n",
              "    <div class=\"colab-df-container\">\n",
              "      <div>\n",
              "<style scoped>\n",
              "    .dataframe tbody tr th:only-of-type {\n",
              "        vertical-align: middle;\n",
              "    }\n",
              "\n",
              "    .dataframe tbody tr th {\n",
              "        vertical-align: top;\n",
              "    }\n",
              "\n",
              "    .dataframe thead th {\n",
              "        text-align: right;\n",
              "    }\n",
              "</style>\n",
              "<table border=\"1\" class=\"dataframe\">\n",
              "  <thead>\n",
              "    <tr style=\"text-align: right;\">\n",
              "      <th></th>\n",
              "      <th>Fireplaces</th>\n",
              "      <th>BsmtFinSF2</th>\n",
              "      <th>LotArea</th>\n",
              "      <th>TotalBsmtSF</th>\n",
              "      <th>1stFlrSF</th>\n",
              "      <th>ScreenPorch</th>\n",
              "      <th>FullBath</th>\n",
              "      <th>GarageCars</th>\n",
              "      <th>MoSold</th>\n",
              "      <th>WoodDeckSF</th>\n",
              "      <th>...</th>\n",
              "      <th>HalfBath</th>\n",
              "      <th>YearRemodAdd</th>\n",
              "      <th>GarageArea</th>\n",
              "      <th>LowQualFinSF</th>\n",
              "      <th>MSSubClass</th>\n",
              "      <th>OverallCond</th>\n",
              "      <th>KitchenAbvGr</th>\n",
              "      <th>BsmtFinSF1</th>\n",
              "      <th>BsmtFullBath</th>\n",
              "      <th>BedroomAbvGr</th>\n",
              "    </tr>\n",
              "  </thead>\n",
              "  <tbody>\n",
              "    <tr>\n",
              "      <th>0</th>\n",
              "      <td>0</td>\n",
              "      <td>0</td>\n",
              "      <td>8450</td>\n",
              "      <td>856</td>\n",
              "      <td>856</td>\n",
              "      <td>0</td>\n",
              "      <td>2</td>\n",
              "      <td>2</td>\n",
              "      <td>2</td>\n",
              "      <td>0</td>\n",
              "      <td>...</td>\n",
              "      <td>1</td>\n",
              "      <td>2003</td>\n",
              "      <td>548</td>\n",
              "      <td>0</td>\n",
              "      <td>60</td>\n",
              "      <td>5</td>\n",
              "      <td>1</td>\n",
              "      <td>706</td>\n",
              "      <td>1</td>\n",
              "      <td>3</td>\n",
              "    </tr>\n",
              "    <tr>\n",
              "      <th>1</th>\n",
              "      <td>1</td>\n",
              "      <td>0</td>\n",
              "      <td>9600</td>\n",
              "      <td>1262</td>\n",
              "      <td>1262</td>\n",
              "      <td>0</td>\n",
              "      <td>2</td>\n",
              "      <td>2</td>\n",
              "      <td>5</td>\n",
              "      <td>298</td>\n",
              "      <td>...</td>\n",
              "      <td>0</td>\n",
              "      <td>1976</td>\n",
              "      <td>460</td>\n",
              "      <td>0</td>\n",
              "      <td>20</td>\n",
              "      <td>8</td>\n",
              "      <td>1</td>\n",
              "      <td>978</td>\n",
              "      <td>0</td>\n",
              "      <td>3</td>\n",
              "    </tr>\n",
              "    <tr>\n",
              "      <th>2</th>\n",
              "      <td>1</td>\n",
              "      <td>0</td>\n",
              "      <td>11250</td>\n",
              "      <td>920</td>\n",
              "      <td>920</td>\n",
              "      <td>0</td>\n",
              "      <td>2</td>\n",
              "      <td>2</td>\n",
              "      <td>9</td>\n",
              "      <td>0</td>\n",
              "      <td>...</td>\n",
              "      <td>1</td>\n",
              "      <td>2002</td>\n",
              "      <td>608</td>\n",
              "      <td>0</td>\n",
              "      <td>60</td>\n",
              "      <td>5</td>\n",
              "      <td>1</td>\n",
              "      <td>486</td>\n",
              "      <td>1</td>\n",
              "      <td>3</td>\n",
              "    </tr>\n",
              "    <tr>\n",
              "      <th>3</th>\n",
              "      <td>1</td>\n",
              "      <td>0</td>\n",
              "      <td>9550</td>\n",
              "      <td>756</td>\n",
              "      <td>961</td>\n",
              "      <td>0</td>\n",
              "      <td>1</td>\n",
              "      <td>3</td>\n",
              "      <td>2</td>\n",
              "      <td>0</td>\n",
              "      <td>...</td>\n",
              "      <td>0</td>\n",
              "      <td>1970</td>\n",
              "      <td>642</td>\n",
              "      <td>0</td>\n",
              "      <td>70</td>\n",
              "      <td>5</td>\n",
              "      <td>1</td>\n",
              "      <td>216</td>\n",
              "      <td>1</td>\n",
              "      <td>3</td>\n",
              "    </tr>\n",
              "    <tr>\n",
              "      <th>4</th>\n",
              "      <td>1</td>\n",
              "      <td>0</td>\n",
              "      <td>14260</td>\n",
              "      <td>1145</td>\n",
              "      <td>1145</td>\n",
              "      <td>0</td>\n",
              "      <td>2</td>\n",
              "      <td>3</td>\n",
              "      <td>12</td>\n",
              "      <td>192</td>\n",
              "      <td>...</td>\n",
              "      <td>1</td>\n",
              "      <td>2000</td>\n",
              "      <td>836</td>\n",
              "      <td>0</td>\n",
              "      <td>60</td>\n",
              "      <td>5</td>\n",
              "      <td>1</td>\n",
              "      <td>655</td>\n",
              "      <td>1</td>\n",
              "      <td>4</td>\n",
              "    </tr>\n",
              "    <tr>\n",
              "      <th>...</th>\n",
              "      <td>...</td>\n",
              "      <td>...</td>\n",
              "      <td>...</td>\n",
              "      <td>...</td>\n",
              "      <td>...</td>\n",
              "      <td>...</td>\n",
              "      <td>...</td>\n",
              "      <td>...</td>\n",
              "      <td>...</td>\n",
              "      <td>...</td>\n",
              "      <td>...</td>\n",
              "      <td>...</td>\n",
              "      <td>...</td>\n",
              "      <td>...</td>\n",
              "      <td>...</td>\n",
              "      <td>...</td>\n",
              "      <td>...</td>\n",
              "      <td>...</td>\n",
              "      <td>...</td>\n",
              "      <td>...</td>\n",
              "      <td>...</td>\n",
              "    </tr>\n",
              "    <tr>\n",
              "      <th>1455</th>\n",
              "      <td>1</td>\n",
              "      <td>0</td>\n",
              "      <td>7917</td>\n",
              "      <td>953</td>\n",
              "      <td>953</td>\n",
              "      <td>0</td>\n",
              "      <td>2</td>\n",
              "      <td>2</td>\n",
              "      <td>8</td>\n",
              "      <td>0</td>\n",
              "      <td>...</td>\n",
              "      <td>1</td>\n",
              "      <td>2000</td>\n",
              "      <td>460</td>\n",
              "      <td>0</td>\n",
              "      <td>60</td>\n",
              "      <td>5</td>\n",
              "      <td>1</td>\n",
              "      <td>0</td>\n",
              "      <td>0</td>\n",
              "      <td>3</td>\n",
              "    </tr>\n",
              "    <tr>\n",
              "      <th>1456</th>\n",
              "      <td>2</td>\n",
              "      <td>163</td>\n",
              "      <td>13175</td>\n",
              "      <td>1542</td>\n",
              "      <td>2073</td>\n",
              "      <td>0</td>\n",
              "      <td>2</td>\n",
              "      <td>2</td>\n",
              "      <td>2</td>\n",
              "      <td>349</td>\n",
              "      <td>...</td>\n",
              "      <td>0</td>\n",
              "      <td>1988</td>\n",
              "      <td>500</td>\n",
              "      <td>0</td>\n",
              "      <td>20</td>\n",
              "      <td>6</td>\n",
              "      <td>1</td>\n",
              "      <td>790</td>\n",
              "      <td>1</td>\n",
              "      <td>3</td>\n",
              "    </tr>\n",
              "    <tr>\n",
              "      <th>1457</th>\n",
              "      <td>2</td>\n",
              "      <td>0</td>\n",
              "      <td>9042</td>\n",
              "      <td>1152</td>\n",
              "      <td>1188</td>\n",
              "      <td>0</td>\n",
              "      <td>2</td>\n",
              "      <td>1</td>\n",
              "      <td>5</td>\n",
              "      <td>0</td>\n",
              "      <td>...</td>\n",
              "      <td>0</td>\n",
              "      <td>2006</td>\n",
              "      <td>252</td>\n",
              "      <td>0</td>\n",
              "      <td>70</td>\n",
              "      <td>9</td>\n",
              "      <td>1</td>\n",
              "      <td>275</td>\n",
              "      <td>0</td>\n",
              "      <td>4</td>\n",
              "    </tr>\n",
              "    <tr>\n",
              "      <th>1458</th>\n",
              "      <td>0</td>\n",
              "      <td>1029</td>\n",
              "      <td>9717</td>\n",
              "      <td>1078</td>\n",
              "      <td>1078</td>\n",
              "      <td>0</td>\n",
              "      <td>1</td>\n",
              "      <td>1</td>\n",
              "      <td>4</td>\n",
              "      <td>366</td>\n",
              "      <td>...</td>\n",
              "      <td>0</td>\n",
              "      <td>1996</td>\n",
              "      <td>240</td>\n",
              "      <td>0</td>\n",
              "      <td>20</td>\n",
              "      <td>6</td>\n",
              "      <td>1</td>\n",
              "      <td>49</td>\n",
              "      <td>1</td>\n",
              "      <td>2</td>\n",
              "    </tr>\n",
              "    <tr>\n",
              "      <th>1459</th>\n",
              "      <td>0</td>\n",
              "      <td>290</td>\n",
              "      <td>9937</td>\n",
              "      <td>1256</td>\n",
              "      <td>1256</td>\n",
              "      <td>0</td>\n",
              "      <td>1</td>\n",
              "      <td>1</td>\n",
              "      <td>6</td>\n",
              "      <td>736</td>\n",
              "      <td>...</td>\n",
              "      <td>1</td>\n",
              "      <td>1965</td>\n",
              "      <td>276</td>\n",
              "      <td>0</td>\n",
              "      <td>20</td>\n",
              "      <td>6</td>\n",
              "      <td>1</td>\n",
              "      <td>830</td>\n",
              "      <td>1</td>\n",
              "      <td>3</td>\n",
              "    </tr>\n",
              "  </tbody>\n",
              "</table>\n",
              "<p>1460 rows × 37 columns</p>\n",
              "</div>\n",
              "      <button class=\"colab-df-convert\" onclick=\"convertToInteractive('df-df68fc0e-9409-4531-946a-1d0d6edb6fa5')\"\n",
              "              title=\"Convert this dataframe to an interactive table.\"\n",
              "              style=\"display:none;\">\n",
              "        \n",
              "  <svg xmlns=\"http://www.w3.org/2000/svg\" height=\"24px\"viewBox=\"0 0 24 24\"\n",
              "       width=\"24px\">\n",
              "    <path d=\"M0 0h24v24H0V0z\" fill=\"none\"/>\n",
              "    <path d=\"M18.56 5.44l.94 2.06.94-2.06 2.06-.94-2.06-.94-.94-2.06-.94 2.06-2.06.94zm-11 1L8.5 8.5l.94-2.06 2.06-.94-2.06-.94L8.5 2.5l-.94 2.06-2.06.94zm10 10l.94 2.06.94-2.06 2.06-.94-2.06-.94-.94-2.06-.94 2.06-2.06.94z\"/><path d=\"M17.41 7.96l-1.37-1.37c-.4-.4-.92-.59-1.43-.59-.52 0-1.04.2-1.43.59L10.3 9.45l-7.72 7.72c-.78.78-.78 2.05 0 2.83L4 21.41c.39.39.9.59 1.41.59.51 0 1.02-.2 1.41-.59l7.78-7.78 2.81-2.81c.8-.78.8-2.07 0-2.86zM5.41 20L4 18.59l7.72-7.72 1.47 1.35L5.41 20z\"/>\n",
              "  </svg>\n",
              "      </button>\n",
              "      \n",
              "  <style>\n",
              "    .colab-df-container {\n",
              "      display:flex;\n",
              "      flex-wrap:wrap;\n",
              "      gap: 12px;\n",
              "    }\n",
              "\n",
              "    .colab-df-convert {\n",
              "      background-color: #E8F0FE;\n",
              "      border: none;\n",
              "      border-radius: 50%;\n",
              "      cursor: pointer;\n",
              "      display: none;\n",
              "      fill: #1967D2;\n",
              "      height: 32px;\n",
              "      padding: 0 0 0 0;\n",
              "      width: 32px;\n",
              "    }\n",
              "\n",
              "    .colab-df-convert:hover {\n",
              "      background-color: #E2EBFA;\n",
              "      box-shadow: 0px 1px 2px rgba(60, 64, 67, 0.3), 0px 1px 3px 1px rgba(60, 64, 67, 0.15);\n",
              "      fill: #174EA6;\n",
              "    }\n",
              "\n",
              "    [theme=dark] .colab-df-convert {\n",
              "      background-color: #3B4455;\n",
              "      fill: #D2E3FC;\n",
              "    }\n",
              "\n",
              "    [theme=dark] .colab-df-convert:hover {\n",
              "      background-color: #434B5C;\n",
              "      box-shadow: 0px 1px 3px 1px rgba(0, 0, 0, 0.15);\n",
              "      filter: drop-shadow(0px 1px 2px rgba(0, 0, 0, 0.3));\n",
              "      fill: #FFFFFF;\n",
              "    }\n",
              "  </style>\n",
              "\n",
              "      <script>\n",
              "        const buttonEl =\n",
              "          document.querySelector('#df-df68fc0e-9409-4531-946a-1d0d6edb6fa5 button.colab-df-convert');\n",
              "        buttonEl.style.display =\n",
              "          google.colab.kernel.accessAllowed ? 'block' : 'none';\n",
              "\n",
              "        async function convertToInteractive(key) {\n",
              "          const element = document.querySelector('#df-df68fc0e-9409-4531-946a-1d0d6edb6fa5');\n",
              "          const dataTable =\n",
              "            await google.colab.kernel.invokeFunction('convertToInteractive',\n",
              "                                                     [key], {});\n",
              "          if (!dataTable) return;\n",
              "\n",
              "          const docLinkHtml = 'Like what you see? Visit the ' +\n",
              "            '<a target=\"_blank\" href=https://colab.research.google.com/notebooks/data_table.ipynb>data table notebook</a>'\n",
              "            + ' to learn more about interactive tables.';\n",
              "          element.innerHTML = '';\n",
              "          dataTable['output_type'] = 'display_data';\n",
              "          await google.colab.output.renderOutput(dataTable, element);\n",
              "          const docLink = document.createElement('div');\n",
              "          docLink.innerHTML = docLinkHtml;\n",
              "          element.appendChild(docLink);\n",
              "        }\n",
              "      </script>\n",
              "    </div>\n",
              "  </div>\n",
              "  "
            ]
          },
          "metadata": {},
          "execution_count": 76
        }
      ]
    },
    {
      "cell_type": "code",
      "metadata": {
        "id": "4qJ-B4HhO4rK"
      },
      "source": [
        "new_data=pd.concat([df_nominal,df_ordinal,data[numerical]],axis=1)"
      ],
      "execution_count": 77,
      "outputs": []
    },
    {
      "cell_type": "code",
      "metadata": {
        "colab": {
          "base_uri": "https://localhost:8080/"
        },
        "id": "Dxn5cPYqPEtL",
        "outputId": "8802f93a-2952-4b80-80f7-8f5ec38385ff"
      },
      "source": [
        "new_data.shape"
      ],
      "execution_count": 78,
      "outputs": [
        {
          "output_type": "execute_result",
          "data": {
            "text/plain": [
              "(1460, 107)"
            ]
          },
          "metadata": {},
          "execution_count": 78
        }
      ]
    },
    {
      "cell_type": "code",
      "metadata": {
        "id": "ynBgewRYPIzj"
      },
      "source": [
        ""
      ],
      "execution_count": 78,
      "outputs": []
    },
    {
      "cell_type": "markdown",
      "metadata": {
        "id": "bFgsoRFNPlXP"
      },
      "source": [
        "# Standardize"
      ]
    },
    {
      "cell_type": "code",
      "metadata": {
        "id": "RK7ZuqtsPp5z"
      },
      "source": [
        "new_data.drop('SalePrice',axis=1,inplace=True)"
      ],
      "execution_count": 79,
      "outputs": []
    },
    {
      "cell_type": "code",
      "metadata": {
        "id": "_YN320_WQNwu"
      },
      "source": [
        "X=new_data.to_numpy()"
      ],
      "execution_count": 80,
      "outputs": []
    },
    {
      "cell_type": "code",
      "metadata": {
        "id": "6nrO1F1VRPf8",
        "outputId": "483c63b3-fabd-4756-c471-906c5dec9a1c",
        "colab": {
          "base_uri": "https://localhost:8080/"
        }
      },
      "source": [
        "X[0]"
      ],
      "execution_count": 81,
      "outputs": [
        {
          "output_type": "execute_result",
          "data": {
            "text/plain": [
              "array([0.000e+00, 0.000e+00, 0.000e+00, 1.000e+00, 0.000e+00, 0.000e+00,\n",
              "       0.000e+00, 0.000e+00, 1.000e+00, 0.000e+00, 0.000e+00, 0.000e+00,\n",
              "       0.000e+00, 0.000e+00, 1.000e+00, 0.000e+00, 0.000e+00, 0.000e+00,\n",
              "       0.000e+00, 0.000e+00, 0.000e+00, 0.000e+00, 0.000e+00, 0.000e+00,\n",
              "       0.000e+00, 0.000e+00, 0.000e+00, 0.000e+00, 0.000e+00, 0.000e+00,\n",
              "       0.000e+00, 0.000e+00, 0.000e+00, 0.000e+00, 0.000e+00, 1.000e+00,\n",
              "       1.000e+00, 1.200e+01, 3.000e+00, 6.000e+00, 1.000e+00, 1.300e+01,\n",
              "       2.000e+00, 4.000e+00, 1.000e+00, 1.000e+00, 2.000e+00, 0.000e+00,\n",
              "       4.000e+00, 0.000e+00, 2.000e+00, 1.000e+00, 2.000e+00, 5.000e+00,\n",
              "       4.000e+00, 8.000e+00, 4.000e+00, 5.000e+00, 2.000e+00, 2.000e+00,\n",
              "       4.000e+00, 1.000e+00, 0.000e+00, 4.000e+00, 2.000e+00, 3.000e+00,\n",
              "       2.000e+00, 4.000e+00, 1.000e+00, 3.000e+00, 0.000e+00, 0.000e+00,\n",
              "       8.450e+03, 8.560e+02, 8.560e+02, 0.000e+00, 2.000e+00, 2.000e+00,\n",
              "       2.000e+00, 0.000e+00, 0.000e+00, 8.540e+02, 2.008e+03, 0.000e+00,\n",
              "       2.003e+03, 1.960e+02, 1.710e+03, 6.100e+01, 2.003e+03, 6.500e+01,\n",
              "       8.000e+00, 0.000e+00, 0.000e+00, 7.000e+00, 0.000e+00, 1.500e+02,\n",
              "       1.000e+00, 2.003e+03, 5.480e+02, 0.000e+00, 6.000e+01, 5.000e+00,\n",
              "       1.000e+00, 7.060e+02, 1.000e+00, 3.000e+00])"
            ]
          },
          "metadata": {},
          "execution_count": 81
        }
      ]
    },
    {
      "cell_type": "code",
      "metadata": {
        "id": "Y82pjfwTWP9i"
      },
      "source": [
        "X=StandardScaler().fit_transform(X)"
      ],
      "execution_count": 82,
      "outputs": []
    },
    {
      "cell_type": "code",
      "metadata": {
        "id": "tCusHeVeOEZR",
        "outputId": "2a20ca9e-7608-46dc-c767-d07a5ddcf2bb",
        "colab": {
          "base_uri": "https://localhost:8080/"
        }
      },
      "source": [
        "X[0]"
      ],
      "execution_count": 83,
      "outputs": [
        {
          "output_type": "execute_result",
          "data": {
            "text/plain": [
              "array([-0.08304548, -0.21585871, -0.10526316,  0.51813339, -0.41895507,\n",
              "       -0.21235968, -0.18831089, -0.15899968,  0.33712564, -0.10854037,\n",
              "       -0.03703704, -0.10526316, -0.20339487, -0.1398323 ,  2.95522137,\n",
              "       -0.19025216, -0.27116307, -0.23917551, -0.16124951, -0.10854037,\n",
              "       -0.1863522 , -0.42683279, -0.07875671, -0.22941573, -0.16998114,\n",
              "       -0.23595776, -0.28963792, -0.13199092, -0.23106504, -0.20521398,\n",
              "       -0.25018188, -0.13199092, -0.16347148, -0.08712888, -0.41169079,\n",
              "        0.26381257, -0.23012211,  0.74309239,  0.64046232,  0.25597761,\n",
              "       -0.49151573,  0.75162623, -0.40936914,  0.2085023 , -0.12304604,\n",
              "        0.06423821, -0.03174026, -0.02618016,  0.303692  , -0.22571613,\n",
              "       -0.77797579, -1.23804229, -0.40779461,  1.02668924,  0.18797343,\n",
              "        0.31386709,  1.11993319,  0.30941909,  0.28974476,  0.83559903,\n",
              "        0.36420746, -0.71775144, -0.88465767,  0.60466978, -0.03628912,\n",
              "        0.28780036, -0.29055229,  0.22403433, -0.12579688,  0.75073056,\n",
              "       -0.95122649, -0.28865283, -0.20714171, -0.45930254, -0.79343379,\n",
              "       -0.27020835,  0.78974052,  0.31172464, -1.5991111 , -0.75217584,\n",
              "       -0.06869175,  1.16185159,  0.13877749, -0.24106104,  1.02115667,\n",
              "        0.51141841,  0.37033344,  0.21650316,  1.05099379, -0.22937175,\n",
              "        0.91220977, -0.11633929, -0.08768781,  0.65147924, -0.3593249 ,\n",
              "       -0.94459061,  1.22758538,  0.87866809,  0.35100032, -0.12024172,\n",
              "        0.07337496, -0.51719981, -0.21145358,  0.57542484,  1.10781015,\n",
              "        0.16377912])"
            ]
          },
          "metadata": {},
          "execution_count": 83
        }
      ]
    },
    {
      "cell_type": "code",
      "metadata": {
        "id": "1fUYBYpdQmJO"
      },
      "source": [
        "y=data[target]"
      ],
      "execution_count": 84,
      "outputs": []
    },
    {
      "cell_type": "code",
      "metadata": {
        "id": "D3vzwzUoQ0to"
      },
      "source": [
        "y=y.to_numpy()"
      ],
      "execution_count": 85,
      "outputs": []
    },
    {
      "cell_type": "code",
      "metadata": {
        "colab": {
          "base_uri": "https://localhost:8080/"
        },
        "id": "t6fa6-LVRGhW",
        "outputId": "902d9ccf-1c89-479a-f613-2b90cb4127c7"
      },
      "source": [
        "y.shape"
      ],
      "execution_count": 86,
      "outputs": [
        {
          "output_type": "execute_result",
          "data": {
            "text/plain": [
              "(1460, 1)"
            ]
          },
          "metadata": {},
          "execution_count": 86
        }
      ]
    },
    {
      "cell_type": "code",
      "metadata": {
        "id": "uu6nQchuPV7N",
        "outputId": "2625afc4-239c-4310-b3b1-9a3fa9420863",
        "colab": {
          "base_uri": "https://localhost:8080/"
        }
      },
      "source": [
        "y"
      ],
      "execution_count": 87,
      "outputs": [
        {
          "output_type": "execute_result",
          "data": {
            "text/plain": [
              "array([[208500],\n",
              "       [181500],\n",
              "       [223500],\n",
              "       ...,\n",
              "       [266500],\n",
              "       [142125],\n",
              "       [147500]])"
            ]
          },
          "metadata": {},
          "execution_count": 87
        }
      ]
    },
    {
      "cell_type": "code",
      "metadata": {
        "id": "R_ZoVQpBPY2V"
      },
      "source": [
        "y=StandardScaler().fit_transform(y)"
      ],
      "execution_count": 88,
      "outputs": []
    },
    {
      "cell_type": "code",
      "metadata": {
        "colab": {
          "base_uri": "https://localhost:8080/"
        },
        "id": "kZ7Og1k1Pc6I",
        "outputId": "1f3077e1-769a-44db-f0d3-766a97986687"
      },
      "source": [
        "y"
      ],
      "execution_count": 89,
      "outputs": [
        {
          "output_type": "execute_result",
          "data": {
            "text/plain": [
              "array([[ 0.34727322],\n",
              "       [ 0.00728832],\n",
              "       [ 0.53615372],\n",
              "       ...,\n",
              "       [ 1.07761115],\n",
              "       [-0.48852299],\n",
              "       [-0.42084081]])"
            ]
          },
          "metadata": {},
          "execution_count": 89
        }
      ]
    },
    {
      "cell_type": "code",
      "metadata": {
        "colab": {
          "base_uri": "https://localhost:8080/"
        },
        "id": "4k4WmbkQPd_O",
        "outputId": "60279541-54d5-4b9a-c015-f7e40e652551"
      },
      "source": [
        "X.shape"
      ],
      "execution_count": 90,
      "outputs": [
        {
          "output_type": "execute_result",
          "data": {
            "text/plain": [
              "(1460, 106)"
            ]
          },
          "metadata": {},
          "execution_count": 90
        }
      ]
    },
    {
      "cell_type": "markdown",
      "metadata": {
        "id": "WQ5eImT_P1xu"
      },
      "source": [
        "*italicized text*# Feature Extraction Using PCA"
      ]
    },
    {
      "cell_type": "code",
      "metadata": {
        "id": "9ve1tg9_P8lu"
      },
      "source": [
        "pca=PCA(n_components=2)"
      ],
      "execution_count": 91,
      "outputs": []
    },
    {
      "cell_type": "code",
      "metadata": {
        "id": "SnovQPpmQN_G"
      },
      "source": [
        "p_components=pca.fit_transform(X)"
      ],
      "execution_count": 92,
      "outputs": []
    },
    {
      "cell_type": "code",
      "metadata": {
        "colab": {
          "base_uri": "https://localhost:8080/"
        },
        "id": "k6lWd7pLQiJH",
        "outputId": "50f88d53-aae3-4157-a46c-5ca7b04d668a"
      },
      "source": [
        "p_components"
      ],
      "execution_count": 93,
      "outputs": [
        {
          "output_type": "execute_result",
          "data": {
            "text/plain": [
              "array([[ 2.44330853, -1.27779629],\n",
              "       [ 0.31645954,  2.63833879],\n",
              "       [ 2.85721958, -0.81049094],\n",
              "       ...,\n",
              "       [ 1.26182664, -0.85996118],\n",
              "       [-2.85096644,  3.29434017],\n",
              "       [-0.77738651,  2.7900975 ]])"
            ]
          },
          "metadata": {},
          "execution_count": 93
        }
      ]
    },
    {
      "cell_type": "code",
      "metadata": {
        "colab": {
          "base_uri": "https://localhost:8080/"
        },
        "id": "PSJL6HXWQu_Y",
        "outputId": "c15c31f7-8d2e-451c-cdd7-50b340f000a8"
      },
      "source": [
        "pca.explained_variance_ratio_"
      ],
      "execution_count": 94,
      "outputs": [
        {
          "output_type": "execute_result",
          "data": {
            "text/plain": [
              "array([0.10560233, 0.04472092])"
            ]
          },
          "metadata": {},
          "execution_count": 94
        }
      ]
    },
    {
      "cell_type": "markdown",
      "metadata": {
        "id": "fv4hFLXzSKxg"
      },
      "source": [
        "# New Dataset Ready for Training\n"
      ]
    },
    {
      "cell_type": "code",
      "metadata": {
        "id": "zXdqXKSGRfbB",
        "colab": {
          "base_uri": "https://localhost:8080/",
          "height": 424
        },
        "outputId": "10c6cca0-5170-4805-e4c5-12765270302f"
      },
      "source": [
        "pca_data = pd.DataFrame(p_components,columns=['PC1','PC2'])\n",
        "target_data = pd.DataFrame(y,columns=['SalePrice'])\n",
        "final_data = pd.concat([pca_data,target_data],axis=1)\n",
        "final_data"
      ],
      "execution_count": 101,
      "outputs": [
        {
          "output_type": "execute_result",
          "data": {
            "text/plain": [
              "           PC1       PC2  SalePrice\n",
              "0     2.443309 -1.277796   0.347273\n",
              "1     0.316460  2.638339   0.007288\n",
              "2     2.857220 -0.810491   0.536154\n",
              "3    -1.333155  0.425566  -0.515281\n",
              "4     5.220984 -0.249452   0.869843\n",
              "...        ...       ...        ...\n",
              "1455  1.335075 -2.288561  -0.074560\n",
              "1456  1.112794  3.257739   0.366161\n",
              "1457  1.261827 -0.859961   1.077611\n",
              "1458 -2.850966  3.294340  -0.488523\n",
              "1459 -0.777387  2.790097  -0.420841\n",
              "\n",
              "[1460 rows x 3 columns]"
            ],
            "text/html": [
              "\n",
              "  <div id=\"df-b02f7e25-3cb4-462f-86df-a710ad3f6695\">\n",
              "    <div class=\"colab-df-container\">\n",
              "      <div>\n",
              "<style scoped>\n",
              "    .dataframe tbody tr th:only-of-type {\n",
              "        vertical-align: middle;\n",
              "    }\n",
              "\n",
              "    .dataframe tbody tr th {\n",
              "        vertical-align: top;\n",
              "    }\n",
              "\n",
              "    .dataframe thead th {\n",
              "        text-align: right;\n",
              "    }\n",
              "</style>\n",
              "<table border=\"1\" class=\"dataframe\">\n",
              "  <thead>\n",
              "    <tr style=\"text-align: right;\">\n",
              "      <th></th>\n",
              "      <th>PC1</th>\n",
              "      <th>PC2</th>\n",
              "      <th>SalePrice</th>\n",
              "    </tr>\n",
              "  </thead>\n",
              "  <tbody>\n",
              "    <tr>\n",
              "      <th>0</th>\n",
              "      <td>2.443309</td>\n",
              "      <td>-1.277796</td>\n",
              "      <td>0.347273</td>\n",
              "    </tr>\n",
              "    <tr>\n",
              "      <th>1</th>\n",
              "      <td>0.316460</td>\n",
              "      <td>2.638339</td>\n",
              "      <td>0.007288</td>\n",
              "    </tr>\n",
              "    <tr>\n",
              "      <th>2</th>\n",
              "      <td>2.857220</td>\n",
              "      <td>-0.810491</td>\n",
              "      <td>0.536154</td>\n",
              "    </tr>\n",
              "    <tr>\n",
              "      <th>3</th>\n",
              "      <td>-1.333155</td>\n",
              "      <td>0.425566</td>\n",
              "      <td>-0.515281</td>\n",
              "    </tr>\n",
              "    <tr>\n",
              "      <th>4</th>\n",
              "      <td>5.220984</td>\n",
              "      <td>-0.249452</td>\n",
              "      <td>0.869843</td>\n",
              "    </tr>\n",
              "    <tr>\n",
              "      <th>...</th>\n",
              "      <td>...</td>\n",
              "      <td>...</td>\n",
              "      <td>...</td>\n",
              "    </tr>\n",
              "    <tr>\n",
              "      <th>1455</th>\n",
              "      <td>1.335075</td>\n",
              "      <td>-2.288561</td>\n",
              "      <td>-0.074560</td>\n",
              "    </tr>\n",
              "    <tr>\n",
              "      <th>1456</th>\n",
              "      <td>1.112794</td>\n",
              "      <td>3.257739</td>\n",
              "      <td>0.366161</td>\n",
              "    </tr>\n",
              "    <tr>\n",
              "      <th>1457</th>\n",
              "      <td>1.261827</td>\n",
              "      <td>-0.859961</td>\n",
              "      <td>1.077611</td>\n",
              "    </tr>\n",
              "    <tr>\n",
              "      <th>1458</th>\n",
              "      <td>-2.850966</td>\n",
              "      <td>3.294340</td>\n",
              "      <td>-0.488523</td>\n",
              "    </tr>\n",
              "    <tr>\n",
              "      <th>1459</th>\n",
              "      <td>-0.777387</td>\n",
              "      <td>2.790097</td>\n",
              "      <td>-0.420841</td>\n",
              "    </tr>\n",
              "  </tbody>\n",
              "</table>\n",
              "<p>1460 rows × 3 columns</p>\n",
              "</div>\n",
              "      <button class=\"colab-df-convert\" onclick=\"convertToInteractive('df-b02f7e25-3cb4-462f-86df-a710ad3f6695')\"\n",
              "              title=\"Convert this dataframe to an interactive table.\"\n",
              "              style=\"display:none;\">\n",
              "        \n",
              "  <svg xmlns=\"http://www.w3.org/2000/svg\" height=\"24px\"viewBox=\"0 0 24 24\"\n",
              "       width=\"24px\">\n",
              "    <path d=\"M0 0h24v24H0V0z\" fill=\"none\"/>\n",
              "    <path d=\"M18.56 5.44l.94 2.06.94-2.06 2.06-.94-2.06-.94-.94-2.06-.94 2.06-2.06.94zm-11 1L8.5 8.5l.94-2.06 2.06-.94-2.06-.94L8.5 2.5l-.94 2.06-2.06.94zm10 10l.94 2.06.94-2.06 2.06-.94-2.06-.94-.94-2.06-.94 2.06-2.06.94z\"/><path d=\"M17.41 7.96l-1.37-1.37c-.4-.4-.92-.59-1.43-.59-.52 0-1.04.2-1.43.59L10.3 9.45l-7.72 7.72c-.78.78-.78 2.05 0 2.83L4 21.41c.39.39.9.59 1.41.59.51 0 1.02-.2 1.41-.59l7.78-7.78 2.81-2.81c.8-.78.8-2.07 0-2.86zM5.41 20L4 18.59l7.72-7.72 1.47 1.35L5.41 20z\"/>\n",
              "  </svg>\n",
              "      </button>\n",
              "      \n",
              "  <style>\n",
              "    .colab-df-container {\n",
              "      display:flex;\n",
              "      flex-wrap:wrap;\n",
              "      gap: 12px;\n",
              "    }\n",
              "\n",
              "    .colab-df-convert {\n",
              "      background-color: #E8F0FE;\n",
              "      border: none;\n",
              "      border-radius: 50%;\n",
              "      cursor: pointer;\n",
              "      display: none;\n",
              "      fill: #1967D2;\n",
              "      height: 32px;\n",
              "      padding: 0 0 0 0;\n",
              "      width: 32px;\n",
              "    }\n",
              "\n",
              "    .colab-df-convert:hover {\n",
              "      background-color: #E2EBFA;\n",
              "      box-shadow: 0px 1px 2px rgba(60, 64, 67, 0.3), 0px 1px 3px 1px rgba(60, 64, 67, 0.15);\n",
              "      fill: #174EA6;\n",
              "    }\n",
              "\n",
              "    [theme=dark] .colab-df-convert {\n",
              "      background-color: #3B4455;\n",
              "      fill: #D2E3FC;\n",
              "    }\n",
              "\n",
              "    [theme=dark] .colab-df-convert:hover {\n",
              "      background-color: #434B5C;\n",
              "      box-shadow: 0px 1px 3px 1px rgba(0, 0, 0, 0.15);\n",
              "      filter: drop-shadow(0px 1px 2px rgba(0, 0, 0, 0.3));\n",
              "      fill: #FFFFFF;\n",
              "    }\n",
              "  </style>\n",
              "\n",
              "      <script>\n",
              "        const buttonEl =\n",
              "          document.querySelector('#df-b02f7e25-3cb4-462f-86df-a710ad3f6695 button.colab-df-convert');\n",
              "        buttonEl.style.display =\n",
              "          google.colab.kernel.accessAllowed ? 'block' : 'none';\n",
              "\n",
              "        async function convertToInteractive(key) {\n",
              "          const element = document.querySelector('#df-b02f7e25-3cb4-462f-86df-a710ad3f6695');\n",
              "          const dataTable =\n",
              "            await google.colab.kernel.invokeFunction('convertToInteractive',\n",
              "                                                     [key], {});\n",
              "          if (!dataTable) return;\n",
              "\n",
              "          const docLinkHtml = 'Like what you see? Visit the ' +\n",
              "            '<a target=\"_blank\" href=https://colab.research.google.com/notebooks/data_table.ipynb>data table notebook</a>'\n",
              "            + ' to learn more about interactive tables.';\n",
              "          element.innerHTML = '';\n",
              "          dataTable['output_type'] = 'display_data';\n",
              "          await google.colab.output.renderOutput(dataTable, element);\n",
              "          const docLink = document.createElement('div');\n",
              "          docLink.innerHTML = docLinkHtml;\n",
              "          element.appendChild(docLink);\n",
              "        }\n",
              "      </script>\n",
              "    </div>\n",
              "  </div>\n",
              "  "
            ]
          },
          "metadata": {},
          "execution_count": 101
        }
      ]
    },
    {
      "cell_type": "markdown",
      "metadata": {
        "id": "OFeVTQwcUT0a"
      },
      "source": [
        "# Train the Model"
      ]
    },
    {
      "cell_type": "code",
      "metadata": {
        "id": "uZZnI0haUWSQ"
      },
      "source": [
        "reg=LassoCV()"
      ],
      "execution_count": 95,
      "outputs": []
    },
    {
      "cell_type": "code",
      "metadata": {
        "colab": {
          "base_uri": "https://localhost:8080/"
        },
        "id": "mvatk3RxUa7k",
        "outputId": "a944e83f-fd81-4990-8273-3f856c7e340f"
      },
      "source": [
        "reg.fit(p_components,y)"
      ],
      "execution_count": 96,
      "outputs": [
        {
          "output_type": "stream",
          "name": "stderr",
          "text": [
            "/usr/local/lib/python3.7/dist-packages/sklearn/linear_model/_coordinate_descent.py:1571: DataConversionWarning: A column-vector y was passed when a 1d array was expected. Please change the shape of y to (n_samples, ), for example using ravel().\n",
            "  y = column_or_1d(y, warn=True)\n"
          ]
        },
        {
          "output_type": "execute_result",
          "data": {
            "text/plain": [
              "LassoCV()"
            ]
          },
          "metadata": {},
          "execution_count": 96
        }
      ]
    },
    {
      "cell_type": "code",
      "metadata": {
        "colab": {
          "base_uri": "https://localhost:8080/"
        },
        "id": "a3unaxeaUscx",
        "outputId": "602f74ae-cda4-470b-d165-efd60fba4aa3"
      },
      "source": [
        "reg.coef_"
      ],
      "execution_count": 97,
      "outputs": [
        {
          "output_type": "execute_result",
          "data": {
            "text/plain": [
              "array([0.25387739, 0.01886904])"
            ]
          },
          "metadata": {},
          "execution_count": 97
        }
      ]
    },
    {
      "cell_type": "code",
      "source": [
        "final_data_array=final_data.to_numpy()"
      ],
      "metadata": {
        "id": "tADjSwY4m7fX"
      },
      "execution_count": 102,
      "outputs": []
    },
    {
      "cell_type": "code",
      "metadata": {
        "id": "I4u624KWCmTA"
      },
      "source": [
        "w_1 = reg.coef_[0]\n",
        "w_2 = reg.coef_[1]\n",
        "b = reg.intercept_"
      ],
      "execution_count": 103,
      "outputs": []
    },
    {
      "cell_type": "code",
      "metadata": {
        "id": "dzK2diVgARJ-"
      },
      "source": [
        "min_val = np.min(final_data_array, axis=0)\n",
        "max_val = np.max(final_data_array, axis=0)\n",
        "x_1,x_2 = np.meshgrid(np.linspace(min_val[0], max_val[0], 20), np.linspace(min_val[1], max_val[1], 20))"
      ],
      "execution_count": 105,
      "outputs": []
    },
    {
      "cell_type": "code",
      "metadata": {
        "id": "WdQH1vO1U_KW"
      },
      "source": [
        "y = w_1*x_1 + w_2*x_2 "
      ],
      "execution_count": 106,
      "outputs": []
    },
    {
      "cell_type": "code",
      "metadata": {
        "id": "UXXtyS1HVKNQ",
        "colab": {
          "base_uri": "https://localhost:8080/",
          "height": 592
        },
        "outputId": "d7b3a7f8-e12e-4763-bf73-55febdfcc7fc"
      },
      "source": [
        "fig1 =  plt.figure(figsize=(10, 10))\n",
        "ax = fig1.gca(projection='3d')\n",
        "ax.plot_surface(x_1,x_2,y, rstride=1, cstride=1, alpha=0.9)\n",
        "ax.scatter(final_data_array[:,0], final_data_array[:,1], final_data_array[:,2], c='r', s=50)\n",
        "plt.xlabel('PC1')\n",
        "plt.ylabel('PC2')\n",
        "ax.set_zlabel('House Price in $')\n",
        "ax.set_title(\"Plane of Best Fit\")"
      ],
      "execution_count": 113,
      "outputs": [
        {
          "output_type": "execute_result",
          "data": {
            "text/plain": [
              "Text(0.5, 0.92, 'Plane of Best Fit')"
            ]
          },
          "metadata": {},
          "execution_count": 113
        },
        {
          "output_type": "display_data",
          "data": {
            "text/plain": [
              "<Figure size 720x720 with 1 Axes>"
            ],
            "image/png": "[encoded data removed]"
          },
          "metadata": {
            "needs_background": "light"
          }
        }
      ]
    },
    {
      "cell_type": "code",
      "metadata": {
        "id": "BlZm8b7YVMrp"
      },
      "source": [
        "y=wx+b"
      ],
      "execution_count": null,
      "outputs": []
    }
  ]
}